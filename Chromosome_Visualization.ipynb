{
 "cells": [
  {
   "cell_type": "code",
   "execution_count": 22,
   "metadata": {
    "scrolled": true
   },
   "outputs": [
    {
     "ename": "TypeError",
     "evalue": "Invalid dimensions for image data",
     "output_type": "error",
     "traceback": [
      "\u001b[0;31m---------------------------------------------------------------------------\u001b[0m",
      "\u001b[0;31mTypeError\u001b[0m                                 Traceback (most recent call last)",
      "\u001b[0;32m<ipython-input-22-69b85337ca40>\u001b[0m in \u001b[0;36m<module>\u001b[0;34m()\u001b[0m\n\u001b[1;32m     36\u001b[0m     \u001b[0;32mreturn\u001b[0m \u001b[0mnp\u001b[0m\u001b[0;34m.\u001b[0m\u001b[0mrandom\u001b[0m\u001b[0;34m.\u001b[0m\u001b[0mrandn\u001b[0m\u001b[0;34m(\u001b[0m\u001b[0;34m)\u001b[0m\u001b[0;34m\u001b[0m\u001b[0m\n\u001b[1;32m     37\u001b[0m \u001b[0;34m\u001b[0m\u001b[0m\n\u001b[0;32m---> 38\u001b[0;31m \u001b[0max1\u001b[0m\u001b[0;34m.\u001b[0m\u001b[0mimshow\u001b[0m\u001b[0;34m(\u001b[0m\u001b[0mline2\u001b[0m\u001b[0;34m(\u001b[0m\u001b[0mx\u001b[0m\u001b[0;34m,\u001b[0m \u001b[0my\u001b[0m\u001b[0;34m)\u001b[0m\u001b[0;34m,\u001b[0m \u001b[0mcmap\u001b[0m \u001b[0;34m=\u001b[0m \u001b[0;34m'RdBu'\u001b[0m\u001b[0;34m)\u001b[0m\u001b[0;34m\u001b[0m\u001b[0m\n\u001b[0m\u001b[1;32m     39\u001b[0m \u001b[0max2\u001b[0m\u001b[0;34m.\u001b[0m\u001b[0mplot\u001b[0m\u001b[0;34m(\u001b[0m\u001b[0mline\u001b[0m\u001b[0;34m(\u001b[0m\u001b[0mx\u001b[0m\u001b[0;34m)\u001b[0m\u001b[0;34m)\u001b[0m\u001b[0;34m\u001b[0m\u001b[0m\n\u001b[1;32m     40\u001b[0m \u001b[0max3\u001b[0m\u001b[0;34m.\u001b[0m\u001b[0mplot\u001b[0m\u001b[0;34m(\u001b[0m\u001b[0mline\u001b[0m\u001b[0;34m(\u001b[0m\u001b[0mx\u001b[0m\u001b[0;34m)\u001b[0m\u001b[0;34m)\u001b[0m\u001b[0;34m\u001b[0m\u001b[0m\n",
      "\u001b[0;32m/anaconda3/lib/python3.6/site-packages/matplotlib/__init__.py\u001b[0m in \u001b[0;36minner\u001b[0;34m(ax, *args, **kwargs)\u001b[0m\n\u001b[1;32m   1853\u001b[0m                         \u001b[0;34m\"the Matplotlib list!)\"\u001b[0m \u001b[0;34m%\u001b[0m \u001b[0;34m(\u001b[0m\u001b[0mlabel_namer\u001b[0m\u001b[0;34m,\u001b[0m \u001b[0mfunc\u001b[0m\u001b[0;34m.\u001b[0m\u001b[0m__name__\u001b[0m\u001b[0;34m)\u001b[0m\u001b[0;34m,\u001b[0m\u001b[0;34m\u001b[0m\u001b[0m\n\u001b[1;32m   1854\u001b[0m                         RuntimeWarning, stacklevel=2)\n\u001b[0;32m-> 1855\u001b[0;31m             \u001b[0;32mreturn\u001b[0m \u001b[0mfunc\u001b[0m\u001b[0;34m(\u001b[0m\u001b[0max\u001b[0m\u001b[0;34m,\u001b[0m \u001b[0;34m*\u001b[0m\u001b[0margs\u001b[0m\u001b[0;34m,\u001b[0m \u001b[0;34m**\u001b[0m\u001b[0mkwargs\u001b[0m\u001b[0;34m)\u001b[0m\u001b[0;34m\u001b[0m\u001b[0m\n\u001b[0m\u001b[1;32m   1856\u001b[0m \u001b[0;34m\u001b[0m\u001b[0m\n\u001b[1;32m   1857\u001b[0m         inner.__doc__ = _add_data_doc(inner.__doc__,\n",
      "\u001b[0;32m/anaconda3/lib/python3.6/site-packages/matplotlib/axes/_axes.py\u001b[0m in \u001b[0;36mimshow\u001b[0;34m(self, X, cmap, norm, aspect, interpolation, alpha, vmin, vmax, origin, extent, shape, filternorm, filterrad, imlim, resample, url, **kwargs)\u001b[0m\n\u001b[1;32m   5485\u001b[0m                               resample=resample, **kwargs)\n\u001b[1;32m   5486\u001b[0m \u001b[0;34m\u001b[0m\u001b[0m\n\u001b[0;32m-> 5487\u001b[0;31m         \u001b[0mim\u001b[0m\u001b[0;34m.\u001b[0m\u001b[0mset_data\u001b[0m\u001b[0;34m(\u001b[0m\u001b[0mX\u001b[0m\u001b[0;34m)\u001b[0m\u001b[0;34m\u001b[0m\u001b[0m\n\u001b[0m\u001b[1;32m   5488\u001b[0m         \u001b[0mim\u001b[0m\u001b[0;34m.\u001b[0m\u001b[0mset_alpha\u001b[0m\u001b[0;34m(\u001b[0m\u001b[0malpha\u001b[0m\u001b[0;34m)\u001b[0m\u001b[0;34m\u001b[0m\u001b[0m\n\u001b[1;32m   5489\u001b[0m         \u001b[0;32mif\u001b[0m \u001b[0mim\u001b[0m\u001b[0;34m.\u001b[0m\u001b[0mget_clip_path\u001b[0m\u001b[0;34m(\u001b[0m\u001b[0;34m)\u001b[0m \u001b[0;32mis\u001b[0m \u001b[0;32mNone\u001b[0m\u001b[0;34m:\u001b[0m\u001b[0;34m\u001b[0m\u001b[0m\n",
      "\u001b[0;32m/anaconda3/lib/python3.6/site-packages/matplotlib/image.py\u001b[0m in \u001b[0;36mset_data\u001b[0;34m(self, A)\u001b[0m\n\u001b[1;32m    651\u001b[0m         if not (self._A.ndim == 2\n\u001b[1;32m    652\u001b[0m                 or self._A.ndim == 3 and self._A.shape[-1] in [3, 4]):\n\u001b[0;32m--> 653\u001b[0;31m             \u001b[0;32mraise\u001b[0m \u001b[0mTypeError\u001b[0m\u001b[0;34m(\u001b[0m\u001b[0;34m\"Invalid dimensions for image data\"\u001b[0m\u001b[0;34m)\u001b[0m\u001b[0;34m\u001b[0m\u001b[0m\n\u001b[0m\u001b[1;32m    654\u001b[0m \u001b[0;34m\u001b[0m\u001b[0m\n\u001b[1;32m    655\u001b[0m         \u001b[0;32mif\u001b[0m \u001b[0mself\u001b[0m\u001b[0;34m.\u001b[0m\u001b[0m_A\u001b[0m\u001b[0;34m.\u001b[0m\u001b[0mndim\u001b[0m \u001b[0;34m==\u001b[0m \u001b[0;36m3\u001b[0m\u001b[0;34m:\u001b[0m\u001b[0;34m\u001b[0m\u001b[0m\n",
      "\u001b[0;31mTypeError\u001b[0m: Invalid dimensions for image data"
     ]
    },
    {
     "data": {
      "image/png": "[encoded data removed]",
      "text/plain": [
       "<Figure size 432x288 with 22 Axes>"
      ]
     },
     "metadata": {},
     "output_type": "display_data"
    }
   ],
   "source": [
    "from matplotlib import pyplot as plt\n",
    "import numpy as np\n",
    "\n",
    "fig = plt.figure()\n",
    "x = np.linspace(0, 0.08)\n",
    "y = 0.5\n",
    "\n",
    "# should add 22 axes, and for x axis the first one starts at 0, goes to 0.08, the second starts at 0.09 and it goes on\n",
    "# for y axis goes from 0 to 0,45 * len(chromosome[i]) / len(chromosome[max]). Here it is a test.\n",
    "ax1 = fig.add_axes([0., 0., 0.08, 0.45], xticklabels=[], yticklabels=[])\n",
    "ax2 = fig.add_axes([0.09, 0., 0.08, 0.45], xticklabels=[], yticklabels=[])\n",
    "ax3 = fig.add_axes([0.18, 0., 0.08, 0.45], xticklabels=[], yticklabels=[])\n",
    "ax4 = fig.add_axes([0.27, 0., 0.08, 0.45], xticklabels=[], yticklabels=[])\n",
    "ax5 = fig.add_axes([0.36, 0., 0.08, 0.45], xticklabels=[], yticklabels=[])\n",
    "ax6 = fig.add_axes([0.45, 0., 0.08, 0.45], xticklabels=[], yticklabels=[])\n",
    "ax7 = fig.add_axes([0.54, 0., 0.08, 0.45], xticklabels=[], yticklabels=[])\n",
    "ax8 = fig.add_axes([0.63, 0., 0.08, 0.45], xticklabels=[], yticklabels=[])\n",
    "ax9 = fig.add_axes([0.72, 0., 0.08, 0.45], xticklabels=[], yticklabels=[])\n",
    "ax10 = fig.add_axes([0.81, 0., 0.08, 0.45], xticklabels=[], yticklabels=[])\n",
    "ax11 = fig.add_axes([0.90, 0., 0.08, 0.45], xticklabels=[], yticklabels=[])\n",
    "ax12 = fig.add_axes([0., 0.55, 0.08, 0.45], xticklabels=[], yticklabels=[])\n",
    "ax13 = fig.add_axes([0.09, 0.55, 0.08, 0.45], xticklabels=[], yticklabels=[])\n",
    "ax14 = fig.add_axes([0.18, 0.55, 0.08, 0.45], xticklabels=[], yticklabels=[])\n",
    "ax15 = fig.add_axes([0.27, 0.55, 0.08, 0.45], xticklabels=[], yticklabels=[])\n",
    "ax16 = fig.add_axes([0.36, 0.55, 0.08, 0.45], xticklabels=[], yticklabels=[])\n",
    "ax17 = fig.add_axes([0.45, 0.55, 0.08, 0.45], xticklabels=[], yticklabels=[])\n",
    "ax18 = fig.add_axes([0.54, 0.55, 0.08, 0.45], xticklabels=[], yticklabels=[])\n",
    "ax19 = fig.add_axes([0.63, 0.55, 0.08, 0.45], xticklabels=[], yticklabels=[])\n",
    "ax20 = fig.add_axes([0.72, 0.55, 0.08, 0.45], xticklabels=[], yticklabels=[])\n",
    "ax21 = fig.add_axes([0.81, 0.55, 0.08, 0.45], xticklabels=[], yticklabels=[])\n",
    "ax22 = fig.add_axes([0.90, 0.55, 0.08, 0.45], xticklabels=[], yticklabels=[])\n",
    "\n",
    "def line(x):\n",
    "    return x\n",
    "def line2(x, y): \n",
    "    return np.random.randn()\n",
    "\n",
    "ax1.imshow(line2(x, y), cmap = 'RdBu')\n",
    "ax2.plot(line(x))\n",
    "ax3.plot(line(x))\n",
    "ax4.plot(line(x))\n",
    "ax5.plot(line(x))\n",
    "ax6.plot(line(x))\n",
    "ax7.plot(line(x))\n",
    "ax8.plot(line(x))\n",
    "ax9.plot(line(x))\n",
    "ax10.plot(line(x))\n",
    "ax11.plot(line(x))\n",
    "ax12.plot(line(x))\n",
    "ax13.plot(line(x))\n",
    "ax14.plot(line(x))\n",
    "ax15.plot(line(x))\n",
    "ax16.plot(line(x))\n",
    "ax17.plot(line(x))\n",
    "ax18.plot(line(x))\n",
    "ax19.plot(line(x))\n",
    "ax20.plot(line(x))\n",
    "ax21.plot(line(x))\n",
    "ax22.plot(line(x))\n",
    "\n"
   ]
  },
  {
   "cell_type": "code",
   "execution_count": 9,
   "metadata": {},
   "outputs": [
    {
     "name": "stdout",
     "output_type": "stream",
     "text": [
      "Using matplotlib backend: MacOSX\n"
     ]
    }
   ],
   "source": [
    "% matplotlib inline\n",
    "\n",
    "import matplotlib\n",
    "import seaborn as sns\n",
    "from matplotlib import pyplot as plt\n",
    "import numpy as np\n",
    "\n",
    "            \n",
    "def f(a, b):\n",
    "    L=[]\n",
    "    for i in range(1000):\n",
    "        M = []\n",
    "        k = np.random.randn()\n",
    "        for j in range(1000):\n",
    "            if b[i,j]<0.51 and b[i,j]>0.49:\n",
    "                M.append(0)\n",
    "            else:\n",
    "                M.append(k)\n",
    "        L.append(M)\n",
    "    return L\n",
    "\n",
    "sns.set()\n",
    "\n",
    "for i in range(1, 23):\n",
    "    plt.subplot(2, 11, i)\n",
    "    plt.title(str(i))\n",
    "    plt.style.use(\"seaborn-paper\")\n",
    "    x = np.linspace(0,1,1000)\n",
    "    y = np.linspace(0,1,1000)\n",
    "    XX, YY = np.meshgrid(x, y)\n",
    "    normalize = matplotlib.colors.Normalize(vmin=-1, vmax=1)\n",
    "    fig = plt.imshow(f(XX, YY), extent=[0, 2, 0, 10], origin='lower',cmap = 'RdBu', norm = normalize, aspect = 'auto')\n",
    "    fig.axes.get_xaxis().set_visible(False)\n",
    "    fig.axes.get_yaxis().set_visible(False)\n",
    "    if i == 11 or i == 22:\n",
    "        plt.colorbar()\n",
    "        \n",
    "    "
   ]
  },
  {
   "cell_type": "code",
   "execution_count": 27,
   "metadata": {},
   "outputs": [
    {
     "name": "stdout",
     "output_type": "stream",
     "text": [
      "Using matplotlib backend: MacOSX\n"
     ]
    },
    {
     "data": {
      "text/plain": [
       "<matplotlib.colorbar.Colorbar at 0x126666fd0>"
      ]
     },
     "execution_count": 27,
     "metadata": {},
     "output_type": "execute_result"
    }
   ],
   "source": [
    "% matplotlib inline\n",
    "\n",
    "import matplotlib\n",
    "import seaborn as sns\n",
    "from matplotlib import pyplot as plt\n",
    "import numpy as np\n",
    "\n",
    "            \n",
    "def f(a, b):\n",
    "    L=[]\n",
    "    for i in range(1000):\n",
    "        M = []\n",
    "        k = np.random.randn()\n",
    "        for j in range(1000):\n",
    "            if b[i,j]<0.51 and b[i,j]>0.49:\n",
    "                M.append(0)\n",
    "            else:\n",
    "                M.append(k)\n",
    "        L.append(M)\n",
    "    return L\n",
    "\n",
    "sns.set()\n",
    "\n",
    "fig, axes =plt.subplots(nrows = 2, ncols = 11)\n",
    "plt.style.use(\"seaborn-paper\")\n",
    "for i in range(1, 23):\n",
    "    ax = axes.flat[i-1]\n",
    "    ax.set_title(str(i))\n",
    "    x = np.linspace(0,1,1000)\n",
    "    y = np.linspace(0,1,1000)\n",
    "    XX, YY = np.meshgrid(x, y)\n",
    "    normalize = matplotlib.colors.Normalize(vmin=-1, vmax=1)\n",
    "    im = ax.imshow(f(XX, YY), extent=[0, 2, 0, 10], origin='lower',cmap = 'RdBu', norm = normalize, aspect = 'auto')\n",
    "    im.axes.get_xaxis().set_visible(False)\n",
    "    im.axes.get_yaxis().set_visible(False)\n",
    "    \n",
    "    \n",
    "fig.subplots_adjust(right = 0.9)\n",
    "cbar_ax = fig.add_axes([0.92, 0.08, 0.05, 0.85])\n",
    "fig.colorbar(im, cax =cbar_ax)"
   ]
  },
  {
   "cell_type": "code",
   "execution_count": null,
   "metadata": {},
   "outputs": [],
   "source": []
  },
  {
   "cell_type": "code",
   "execution_count": null,
   "metadata": {},
   "outputs": [],
   "source": []
  }
 ],
 "metadata": {
  "kernelspec": {
   "display_name": "Python 3",
   "language": "python",
   "name": "python3"
  },
  "language_info": {
   "codemirror_mode": {
    "name": "ipython",
    "version": 3
   },
   "file_extension": ".py",
   "mimetype": "text/x-python",
   "name": "python",
   "nbconvert_exporter": "python",
   "pygments_lexer": "ipython3",
   "version": "3.6.5"
  }
 },
 "nbformat": 4,
 "nbformat_minor": 2
}
